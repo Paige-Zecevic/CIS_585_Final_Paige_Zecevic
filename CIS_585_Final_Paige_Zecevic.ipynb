{
 "cells": [
  {
   "cell_type": "markdown",
   "id": "5572d904",
   "metadata": {},
   "source": [
    "# Desicsion trees using Packages"
   ]
  },
  {
   "cell_type": "markdown",
   "id": "eb72dc0f",
   "metadata": {},
   "source": [
    "## Import Packages"
   ]
  },
  {
   "cell_type": "code",
   "execution_count": 1,
   "id": "ae331304",
   "metadata": {
    "ExecuteTime": {
     "end_time": "2023-04-09T16:38:29.487586Z",
     "start_time": "2023-04-09T16:38:28.574669Z"
    }
   },
   "outputs": [],
   "source": [
    "import pandas as pd\n",
    "import numpy as np\n",
    "from sklearn.datasets import load_iris\n",
    "from sklearn.model_selection import train_test_split\n",
    "from sklearn.tree import DecisionTreeClassifier\n",
    "from sklearn.metrics import accuracy_score\n",
    "import math "
   ]
  },
  {
   "cell_type": "markdown",
   "id": "c6126eb6",
   "metadata": {},
   "source": [
    "## Import data "
   ]
  },
  {
   "cell_type": "code",
   "execution_count": 2,
   "id": "0b6e5925",
   "metadata": {
    "ExecuteTime": {
     "end_time": "2023-04-09T16:38:29.508266Z",
     "start_time": "2023-04-09T16:38:29.488946Z"
    }
   },
   "outputs": [
    {
     "data": {
      "text/html": [
       "<div>\n",
       "<style scoped>\n",
       "    .dataframe tbody tr th:only-of-type {\n",
       "        vertical-align: middle;\n",
       "    }\n",
       "\n",
       "    .dataframe tbody tr th {\n",
       "        vertical-align: top;\n",
       "    }\n",
       "\n",
       "    .dataframe thead th {\n",
       "        text-align: right;\n",
       "    }\n",
       "</style>\n",
       "<table border=\"1\" class=\"dataframe\">\n",
       "  <thead>\n",
       "    <tr style=\"text-align: right;\">\n",
       "      <th></th>\n",
       "      <th>sepal length (cm)</th>\n",
       "      <th>sepal width (cm)</th>\n",
       "      <th>petal length (cm)</th>\n",
       "      <th>petal width (cm)</th>\n",
       "      <th>flower</th>\n",
       "      <th>flowername</th>\n",
       "    </tr>\n",
       "  </thead>\n",
       "  <tbody>\n",
       "    <tr>\n",
       "      <th>0</th>\n",
       "      <td>5.1</td>\n",
       "      <td>3.5</td>\n",
       "      <td>1.4</td>\n",
       "      <td>0.2</td>\n",
       "      <td>0</td>\n",
       "      <td>setosa</td>\n",
       "    </tr>\n",
       "    <tr>\n",
       "      <th>1</th>\n",
       "      <td>4.9</td>\n",
       "      <td>3.0</td>\n",
       "      <td>1.4</td>\n",
       "      <td>0.2</td>\n",
       "      <td>0</td>\n",
       "      <td>setosa</td>\n",
       "    </tr>\n",
       "    <tr>\n",
       "      <th>2</th>\n",
       "      <td>4.7</td>\n",
       "      <td>3.2</td>\n",
       "      <td>1.3</td>\n",
       "      <td>0.2</td>\n",
       "      <td>0</td>\n",
       "      <td>setosa</td>\n",
       "    </tr>\n",
       "    <tr>\n",
       "      <th>3</th>\n",
       "      <td>4.6</td>\n",
       "      <td>3.1</td>\n",
       "      <td>1.5</td>\n",
       "      <td>0.2</td>\n",
       "      <td>0</td>\n",
       "      <td>setosa</td>\n",
       "    </tr>\n",
       "    <tr>\n",
       "      <th>4</th>\n",
       "      <td>5.0</td>\n",
       "      <td>3.6</td>\n",
       "      <td>1.4</td>\n",
       "      <td>0.2</td>\n",
       "      <td>0</td>\n",
       "      <td>setosa</td>\n",
       "    </tr>\n",
       "    <tr>\n",
       "      <th>...</th>\n",
       "      <td>...</td>\n",
       "      <td>...</td>\n",
       "      <td>...</td>\n",
       "      <td>...</td>\n",
       "      <td>...</td>\n",
       "      <td>...</td>\n",
       "    </tr>\n",
       "    <tr>\n",
       "      <th>145</th>\n",
       "      <td>6.7</td>\n",
       "      <td>3.0</td>\n",
       "      <td>5.2</td>\n",
       "      <td>2.3</td>\n",
       "      <td>2</td>\n",
       "      <td>virginica</td>\n",
       "    </tr>\n",
       "    <tr>\n",
       "      <th>146</th>\n",
       "      <td>6.3</td>\n",
       "      <td>2.5</td>\n",
       "      <td>5.0</td>\n",
       "      <td>1.9</td>\n",
       "      <td>2</td>\n",
       "      <td>virginica</td>\n",
       "    </tr>\n",
       "    <tr>\n",
       "      <th>147</th>\n",
       "      <td>6.5</td>\n",
       "      <td>3.0</td>\n",
       "      <td>5.2</td>\n",
       "      <td>2.0</td>\n",
       "      <td>2</td>\n",
       "      <td>virginica</td>\n",
       "    </tr>\n",
       "    <tr>\n",
       "      <th>148</th>\n",
       "      <td>6.2</td>\n",
       "      <td>3.4</td>\n",
       "      <td>5.4</td>\n",
       "      <td>2.3</td>\n",
       "      <td>2</td>\n",
       "      <td>virginica</td>\n",
       "    </tr>\n",
       "    <tr>\n",
       "      <th>149</th>\n",
       "      <td>5.9</td>\n",
       "      <td>3.0</td>\n",
       "      <td>5.1</td>\n",
       "      <td>1.8</td>\n",
       "      <td>2</td>\n",
       "      <td>virginica</td>\n",
       "    </tr>\n",
       "  </tbody>\n",
       "</table>\n",
       "<p>150 rows × 6 columns</p>\n",
       "</div>"
      ],
      "text/plain": [
       "     sepal length (cm)  sepal width (cm)  petal length (cm)  petal width (cm)  \\\n",
       "0                  5.1               3.5                1.4               0.2   \n",
       "1                  4.9               3.0                1.4               0.2   \n",
       "2                  4.7               3.2                1.3               0.2   \n",
       "3                  4.6               3.1                1.5               0.2   \n",
       "4                  5.0               3.6                1.4               0.2   \n",
       "..                 ...               ...                ...               ...   \n",
       "145                6.7               3.0                5.2               2.3   \n",
       "146                6.3               2.5                5.0               1.9   \n",
       "147                6.5               3.0                5.2               2.0   \n",
       "148                6.2               3.4                5.4               2.3   \n",
       "149                5.9               3.0                5.1               1.8   \n",
       "\n",
       "     flower flowername  \n",
       "0         0     setosa  \n",
       "1         0     setosa  \n",
       "2         0     setosa  \n",
       "3         0     setosa  \n",
       "4         0     setosa  \n",
       "..      ...        ...  \n",
       "145       2  virginica  \n",
       "146       2  virginica  \n",
       "147       2  virginica  \n",
       "148       2  virginica  \n",
       "149       2  virginica  \n",
       "\n",
       "[150 rows x 6 columns]"
      ]
     },
     "execution_count": 2,
     "metadata": {},
     "output_type": "execute_result"
    }
   ],
   "source": [
    "#the way the data is stored in the iris package means you cant go directly from load to data frame. Target name is a key and a dimision\n",
    "#of 3 vs 150 so you canot create data frame. That is why target is created as an individual columna and a dict is used to map a \n",
    "#categorical column based off of targets name. \n",
    "data = load_iris(as_frame=True)\n",
    "Final=pd.DataFrame(data.data)\n",
    "flower_map= dict(zip([0, 1, 2], data.target_names))\n",
    "Final[\"flower\"]=pd.DataFrame(data.target)\n",
    "Final[\"flowername\"]= Final[\"flower\"].map(flower_map)\n",
    "\n",
    "Final"
   ]
  },
  {
   "cell_type": "markdown",
   "id": "f0569077",
   "metadata": {},
   "source": [
    "## Split data "
   ]
  },
  {
   "cell_type": "code",
   "execution_count": 3,
   "id": "767f0680",
   "metadata": {
    "ExecuteTime": {
     "end_time": "2023-04-09T16:38:29.513239Z",
     "start_time": "2023-04-09T16:38:29.509613Z"
    }
   },
   "outputs": [],
   "source": [
    "X = Final.iloc[:, :4]\n",
    "y = Final.iloc[:, -1]\n",
    "X_train, X_test, y_train, y_test = train_test_split(X, y, train_size=0.75, shuffle=True, random_state=24)"
   ]
  },
  {
   "cell_type": "markdown",
   "id": "0bf8909b",
   "metadata": {},
   "source": [
    "## Run packages "
   ]
  },
  {
   "cell_type": "code",
   "execution_count": 4,
   "id": "073a1061",
   "metadata": {
    "ExecuteTime": {
     "end_time": "2023-04-09T16:38:29.517890Z",
     "start_time": "2023-04-09T16:38:29.514193Z"
    }
   },
   "outputs": [],
   "source": [
    "decision_tree = DecisionTreeClassifier(random_state=0, max_depth=2)\n",
    "decision_tree = decision_tree.fit(X_train, y_train)\n",
    "#tree.plot_tree(decision_tree)"
   ]
  },
  {
   "cell_type": "code",
   "execution_count": 5,
   "id": "e2d1e257",
   "metadata": {
    "ExecuteTime": {
     "end_time": "2023-04-09T16:38:29.833076Z",
     "start_time": "2023-04-09T16:38:29.518700Z"
    }
   },
   "outputs": [
    {
     "data": {
      "text/plain": [
       "[Text(0.4, 0.8333333333333334, 'X[3] <= 0.8\\ngini = 0.663\\nsamples = 112\\nvalue = [38, 42, 32]'),\n",
       " Text(0.2, 0.5, 'gini = 0.0\\nsamples = 38\\nvalue = [38, 0, 0]'),\n",
       " Text(0.6, 0.5, 'X[3] <= 1.65\\ngini = 0.491\\nsamples = 74\\nvalue = [0, 42, 32]'),\n",
       " Text(0.4, 0.16666666666666666, 'gini = 0.127\\nsamples = 44\\nvalue = [0, 41, 3]'),\n",
       " Text(0.8, 0.16666666666666666, 'gini = 0.064\\nsamples = 30\\nvalue = [0, 1, 29]')]"
      ]
     },
     "execution_count": 5,
     "metadata": {},
     "output_type": "execute_result"
    },
    {
     "data": {
      "image/png": "[encoded data removed]",
      "text/plain": [
       "<Figure size 432x288 with 1 Axes>"
      ]
     },
     "metadata": {
      "needs_background": "light"
     },
     "output_type": "display_data"
    }
   ],
   "source": [
    "from sklearn import tree\n",
    "tree.plot_tree(decision_tree)"
   ]
  },
  {
   "cell_type": "markdown",
   "id": "264c507b",
   "metadata": {},
   "source": [
    "## Evaluate "
   ]
  },
  {
   "cell_type": "code",
   "execution_count": 6,
   "id": "0910224b",
   "metadata": {
    "ExecuteTime": {
     "end_time": "2023-04-09T16:38:29.838755Z",
     "start_time": "2023-04-09T16:38:29.834946Z"
    }
   },
   "outputs": [
    {
     "name": "stdout",
     "output_type": "stream",
     "text": [
      "Package Implementation: 0.9473684210526315\n"
     ]
    }
   ],
   "source": [
    "y_preds = decision_tree.predict(X_test)\n",
    "PackageAccuracy=accuracy_score(y_test, y_preds)\n",
    "print(\"Package Implementation:\",PackageAccuracy)"
   ]
  },
  {
   "cell_type": "markdown",
   "id": "71b65862",
   "metadata": {},
   "source": [
    "# Decision tree from scratch"
   ]
  },
  {
   "cell_type": "code",
   "execution_count": 7,
   "id": "302cbcc5",
   "metadata": {
    "ExecuteTime": {
     "end_time": "2023-04-09T16:38:29.843604Z",
     "start_time": "2023-04-09T16:38:29.840428Z"
    }
   },
   "outputs": [],
   "source": [
    "#function to split the data to true/false\n",
    "# This is what tells the model if the data should go to the left or right branch\n",
    "def split(criteria,Xdata,Ydata,feature): \n",
    "    true=np.empty((0,2))\n",
    "    false=np.empty((0,2))\n",
    "    for i in range(len(Xdata)):\n",
    "        if Xdata[feature].iloc[i]<=criteria:\n",
    "            insertarrary=np.array([Xdata[feature].iloc[i],Ydata.iloc[i]])\n",
    "            true=np.vstack([true,insertarrary])\n",
    "        else: \n",
    "            insertarrary=np.array([Xdata[feature].iloc[i],Ydata.iloc[i]])\n",
    "            false=np.vstack([false,insertarrary])\n",
    "    return true,false"
   ]
  },
  {
   "cell_type": "code",
   "execution_count": 8,
   "id": "dcb11ee1",
   "metadata": {
    "ExecuteTime": {
     "end_time": "2023-04-09T16:38:29.851304Z",
     "start_time": "2023-04-09T16:38:29.844539Z"
    }
   },
   "outputs": [
    {
     "data": {
      "text/plain": [
       "array([['1.3', 'versicolor'],\n",
       "       ['1.3', 'versicolor'],\n",
       "       ['1.2', 'versicolor'],\n",
       "       ['0.2', 'setosa'],\n",
       "       ['0.4', 'setosa'],\n",
       "       ['0.2', 'setosa'],\n",
       "       ['1.1', 'versicolor'],\n",
       "       ['1.3', 'versicolor'],\n",
       "       ['0.1', 'setosa'],\n",
       "       ['0.3', 'setosa'],\n",
       "       ['0.2', 'setosa'],\n",
       "       ['0.2', 'setosa'],\n",
       "       ['0.1', 'setosa'],\n",
       "       ['0.4', 'setosa'],\n",
       "       ['1.2', 'versicolor'],\n",
       "       ['1.0', 'versicolor'],\n",
       "       ['1.3', 'versicolor'],\n",
       "       ['0.6', 'setosa'],\n",
       "       ['0.2', 'setosa'],\n",
       "       ['1.3', 'versicolor'],\n",
       "       ['1.1', 'versicolor'],\n",
       "       ['1.1', 'versicolor'],\n",
       "       ['1.0', 'versicolor'],\n",
       "       ['0.4', 'setosa'],\n",
       "       ['0.2', 'setosa'],\n",
       "       ['0.1', 'setosa'],\n",
       "       ['1.3', 'versicolor'],\n",
       "       ['0.5', 'setosa'],\n",
       "       ['1.0', 'versicolor'],\n",
       "       ['0.2', 'setosa'],\n",
       "       ['1.3', 'versicolor'],\n",
       "       ['1.0', 'versicolor'],\n",
       "       ['0.2', 'setosa'],\n",
       "       ['0.2', 'setosa'],\n",
       "       ['0.2', 'setosa'],\n",
       "       ['0.4', 'setosa'],\n",
       "       ['0.2', 'setosa'],\n",
       "       ['0.2', 'setosa'],\n",
       "       ['0.4', 'setosa'],\n",
       "       ['0.2', 'setosa'],\n",
       "       ['0.3', 'setosa'],\n",
       "       ['0.3', 'setosa'],\n",
       "       ['0.2', 'setosa'],\n",
       "       ['0.2', 'setosa'],\n",
       "       ['0.2', 'setosa'],\n",
       "       ['1.3', 'versicolor'],\n",
       "       ['0.2', 'setosa'],\n",
       "       ['1.3', 'versicolor'],\n",
       "       ['1.3', 'versicolor'],\n",
       "       ['0.2', 'setosa'],\n",
       "       ['0.2', 'setosa'],\n",
       "       ['0.3', 'setosa'],\n",
       "       ['1.0', 'versicolor'],\n",
       "       ['1.3', 'versicolor'],\n",
       "       ['1.3', 'versicolor'],\n",
       "       ['1.0', 'versicolor'],\n",
       "       ['0.2', 'setosa'],\n",
       "       ['0.1', 'setosa'],\n",
       "       ['0.2', 'setosa'],\n",
       "       ['0.3', 'setosa'],\n",
       "       ['1.2', 'versicolor'],\n",
       "       ['1.2', 'versicolor'],\n",
       "       ['0.2', 'setosa'],\n",
       "       ['1.3', 'versicolor']], dtype='<U32')"
      ]
     },
     "execution_count": 8,
     "metadata": {},
     "output_type": "execute_result"
    }
   ],
   "source": [
    "#Testing the splitting data\n",
    "true,false=split(1.3,X_train,y_train,'petal width (cm)')\n",
    "true"
   ]
  },
  {
   "cell_type": "code",
   "execution_count": 9,
   "id": "487a9cbd",
   "metadata": {
    "ExecuteTime": {
     "end_time": "2023-04-09T16:38:29.859295Z",
     "start_time": "2023-04-09T16:38:29.852661Z"
    }
   },
   "outputs": [],
   "source": [
    "#function to calculate the Entropy for information gain\n",
    "#entropy is how pure the node is, the lower the better. \n",
    "# this function also provides the split of data to true and false so it can be used as the weights in the information loss formula \n",
    "# the entropy formula uses the category percentages for the splits for its probability portion, which is why we use the unique function\n",
    "def entropy(true,false): \n",
    "    #find fractions of splits for true\n",
    "    counts=np.unique(true[:,1], return_counts=True)\n",
    "    #true[:,1]\n",
    "    counts=np.array(counts)\n",
    "    counts=np.transpose(counts)\n",
    "    results=[]\n",
    "    truprob= len(true)/(len(true)+len(false))\n",
    "    falseprob=len(false)/(len(true)+len(false))\n",
    "    for i in range(len(counts)):\n",
    "        results.append(int(counts[i,1])/len(true))\n",
    "    entropytrue=[]\n",
    "    for i in range(len(results)):\n",
    "        entropytrue.append(-results[i]*math.log(results[i]))\n",
    "        \n",
    "    #find fractions of splits for true\n",
    "    counts=np.unique(false[:,1], return_counts=True)\n",
    "    counts=np.array(counts)\n",
    "    counts=np.transpose(counts)\n",
    "    results=[]\n",
    "    for i in range(len(counts)):\n",
    "        results.append(int(counts[i,1])/len(false))\n",
    "    entropyfalse=[]\n",
    "    for i in range(len(results)):\n",
    "        entropyfalse.append(-results[i]*math.log(results[i]))    \n",
    "    \n",
    "    trueList=[]\n",
    "    for i in range(len(entropytrue)):\n",
    "        if abs(entropytrue[i])!=0:\n",
    "            trueList.append(-(entropytrue[i]*math.log(entropytrue[i])))\n",
    "        else: trueList.append(0)\n",
    "    falseList=[]\n",
    "    for i in range(len(entropyfalse)):\n",
    "        if abs(entropyfalse[i])!=0:\n",
    "            falseList.append(-(entropyfalse[i]*math.log(entropyfalse[i])))\n",
    "        else: falseList.append(0)\n",
    "            \n",
    "            \n",
    "    return sum(trueList),truprob,sum(falseList),falseprob"
   ]
  },
  {
   "cell_type": "code",
   "execution_count": 10,
   "id": "947cc58e",
   "metadata": {
    "ExecuteTime": {
     "end_time": "2023-04-09T16:38:29.863366Z",
     "start_time": "2023-04-09T16:38:29.860474Z"
    }
   },
   "outputs": [
    {
     "data": {
      "text/plain": [
       "(0.7308585367773555,\n",
       " 0.5714285714285714,\n",
       " 0.7214913545982902,\n",
       " 0.42857142857142855)"
      ]
     },
     "execution_count": 10,
     "metadata": {},
     "output_type": "execute_result"
    }
   ],
   "source": [
    "#test entropy\n",
    "entropy(true,false)"
   ]
  },
  {
   "cell_type": "code",
   "execution_count": 11,
   "id": "5bc16258",
   "metadata": {
    "ExecuteTime": {
     "end_time": "2023-04-09T16:38:29.866200Z",
     "start_time": "2023-04-09T16:38:29.864337Z"
    }
   },
   "outputs": [],
   "source": [
    "#information gain\n",
    "def InfoGain(childTrue, childFalse):\n",
    "    childT, childTprob,childF,childFprob=entropy(childTrue,childFalse)\n",
    "    return 1-(childT*childTprob+childF*childFprob)"
   ]
  },
  {
   "cell_type": "code",
   "execution_count": 12,
   "id": "638f95c5",
   "metadata": {
    "ExecuteTime": {
     "end_time": "2023-04-09T16:38:29.869896Z",
     "start_time": "2023-04-09T16:38:29.867080Z"
    }
   },
   "outputs": [
    {
     "data": {
      "text/plain": [
       "0.2731559698708155"
      ]
     },
     "execution_count": 12,
     "metadata": {},
     "output_type": "execute_result"
    }
   ],
   "source": [
    "#test InfoGain \n",
    "InfoGain(true,false)"
   ]
  },
  {
   "cell_type": "code",
   "execution_count": 13,
   "id": "2cb8cbec",
   "metadata": {
    "ExecuteTime": {
     "end_time": "2023-04-09T16:38:29.875168Z",
     "start_time": "2023-04-09T16:38:29.870869Z"
    }
   },
   "outputs": [],
   "source": [
    "#function to find the best split for and individual feature\n",
    "def bestsplit(feature,Xdata,Ydata):\n",
    "    inputs = []\n",
    "    list1=Xdata[feature]\n",
    "    #np.array(Xdata.columns).tolist()\n",
    "        # traverse for all elements\n",
    "    for x in list1:\n",
    "        # check if exists in unique_list or not\n",
    "        if x not in inputs:\n",
    "            inputs.append(x)\n",
    "    \n",
    "        results=np.empty((0,2))\n",
    "    for i in range(len(inputs)):\n",
    "        true2,false2=split(inputs[i],Xdata,Ydata,feature)\n",
    "        output=InfoGain(true2,false2)\n",
    "        step=np.array([output,inputs[i]])\n",
    "        results=np.vstack([results,step])\n",
    "    results=pd.DataFrame(results)\n",
    "    results=results.sort_values(0,ascending=False)\n",
    "    results=results.head(1)\n",
    "    results=results.rename(columns={0: \"InfoGain\", 1: \"Variable\"})\n",
    "    results[\"Feature\"]=feature\n",
    "    return results\n"
   ]
  },
  {
   "cell_type": "code",
   "execution_count": 14,
   "id": "f7ebd3dc",
   "metadata": {
    "ExecuteTime": {
     "end_time": "2023-04-09T16:38:29.936110Z",
     "start_time": "2023-04-09T16:38:29.876430Z"
    }
   },
   "outputs": [
    {
     "data": {
      "text/html": [
       "<div>\n",
       "<style scoped>\n",
       "    .dataframe tbody tr th:only-of-type {\n",
       "        vertical-align: middle;\n",
       "    }\n",
       "\n",
       "    .dataframe tbody tr th {\n",
       "        vertical-align: top;\n",
       "    }\n",
       "\n",
       "    .dataframe thead th {\n",
       "        text-align: right;\n",
       "    }\n",
       "</style>\n",
       "<table border=\"1\" class=\"dataframe\">\n",
       "  <thead>\n",
       "    <tr style=\"text-align: right;\">\n",
       "      <th></th>\n",
       "      <th>InfoGain</th>\n",
       "      <th>Variable</th>\n",
       "      <th>Feature</th>\n",
       "    </tr>\n",
       "  </thead>\n",
       "  <tbody>\n",
       "    <tr>\n",
       "      <th>13</th>\n",
       "      <td>0.515921</td>\n",
       "      <td>0.6</td>\n",
       "      <td>petal width (cm)</td>\n",
       "    </tr>\n",
       "  </tbody>\n",
       "</table>\n",
       "</div>"
      ],
      "text/plain": [
       "    InfoGain  Variable           Feature\n",
       "13  0.515921       0.6  petal width (cm)"
      ]
     },
     "execution_count": 14,
     "metadata": {},
     "output_type": "execute_result"
    }
   ],
   "source": [
    "#Testing the best split for an individual feature \n",
    "bestsplit('petal width (cm)',X_train,y_train)"
   ]
  },
  {
   "cell_type": "code",
   "execution_count": 15,
   "id": "168585f6",
   "metadata": {
    "ExecuteTime": {
     "end_time": "2023-04-09T16:38:29.939528Z",
     "start_time": "2023-04-09T16:38:29.937047Z"
    }
   },
   "outputs": [],
   "source": [
    "#find the best feature out of all features to pick next \n",
    "# is looking through all the possible features using the best split feature from above to find the best feature and value\n",
    "def NextNode(Xdata,Ydata):\n",
    "    list2=Xdata.columns\n",
    "    final=pd.DataFrame()\n",
    "    for i in range(len(list2)):\n",
    "        final=pd.concat([final,bestsplit(list2[i],Xdata,Ydata)],axis=0)\n",
    "    return final.sort_values('InfoGain').tail(1)"
   ]
  },
  {
   "cell_type": "code",
   "execution_count": 16,
   "id": "3b6090d0",
   "metadata": {
    "ExecuteTime": {
     "end_time": "2023-04-09T16:38:30.228895Z",
     "start_time": "2023-04-09T16:38:29.940532Z"
    }
   },
   "outputs": [
    {
     "data": {
      "text/html": [
       "<div>\n",
       "<style scoped>\n",
       "    .dataframe tbody tr th:only-of-type {\n",
       "        vertical-align: middle;\n",
       "    }\n",
       "\n",
       "    .dataframe tbody tr th {\n",
       "        vertical-align: top;\n",
       "    }\n",
       "\n",
       "    .dataframe thead th {\n",
       "        text-align: right;\n",
       "    }\n",
       "</style>\n",
       "<table border=\"1\" class=\"dataframe\">\n",
       "  <thead>\n",
       "    <tr style=\"text-align: right;\">\n",
       "      <th></th>\n",
       "      <th>InfoGain</th>\n",
       "      <th>Variable</th>\n",
       "      <th>Feature</th>\n",
       "    </tr>\n",
       "  </thead>\n",
       "  <tbody>\n",
       "    <tr>\n",
       "      <th>13</th>\n",
       "      <td>0.515921</td>\n",
       "      <td>0.6</td>\n",
       "      <td>petal width (cm)</td>\n",
       "    </tr>\n",
       "  </tbody>\n",
       "</table>\n",
       "</div>"
      ],
      "text/plain": [
       "    InfoGain  Variable           Feature\n",
       "13  0.515921       0.6  petal width (cm)"
      ]
     },
     "execution_count": 16,
     "metadata": {},
     "output_type": "execute_result"
    }
   ],
   "source": [
    "# test NextNode\n",
    "NextNode(X_train,y_train)"
   ]
  },
  {
   "cell_type": "code",
   "execution_count": 17,
   "id": "57adbdf2",
   "metadata": {
    "ExecuteTime": {
     "end_time": "2023-04-09T16:38:30.734623Z",
     "start_time": "2023-04-09T16:38:30.229856Z"
    }
   },
   "outputs": [
    {
     "name": "stdout",
     "output_type": "stream",
     "text": [
      "    InfoGain  Variable           Feature NodeLevel   T/F\n",
      "13  0.515921       0.6  petal width (cm)      Root  Root\n",
      "petal width (cm)\n",
      "   InfoGain  Variable            Feature NodeLevel   T/F\n",
      "0       1.0       1.0  petal length (cm)    Layer1  True     InfoGain  Variable            Feature NodeLevel    T/F\n",
      "12  0.556945       4.7  petal length (cm)    Layer1  False\n",
      "    InfoGain  Variable            Feature    NodeLevel   T/F\n",
      "13       1.0       4.9  sepal length (cm)  FalseLayer2  True    InfoGain  Variable            Feature    NodeLevel    T/F\n",
      "0  0.514676       6.9  sepal length (cm)  FalseLayer2  False\n"
     ]
    }
   ],
   "source": [
    "###Application of creating the tree by hand\n",
    "## chose to show all the functions interacting by hand becuase I find it easier to understand. \n",
    "\n",
    "#this chunk is finding the root node, looking through all the features and values to find the optiamal first split. \n",
    "#is also creates a dataframe that will contain all the splits and what level they are fo. \n",
    "DF=pd.DataFrame()\n",
    "tochose=NextNode(X_train,y_train)\n",
    "tochose['NodeLevel']=\"Root\"\n",
    "tochose['T/F']=\"Root\"\n",
    "DF=DF.append(tochose)\n",
    "print(tochose)\n",
    "\n",
    "\n",
    "#The data now has to be split based on the above chunk of codes results to get the true and false branch data. \n",
    "#once data is split the formuals are re-ran to see the next split and feature. \n",
    "#this is bascily making the first layer of the tree and yo uwould only expect two nodes max from it \n",
    "XData=X_train\n",
    "YData=y_train\n",
    "feature=tochose['Feature'].values\n",
    "feature=feature[0]\n",
    "cut=float(tochose[\"Variable\"])\n",
    "print(feature)\n",
    "DatatoSplit=pd.concat([XData,YData],axis=1)\n",
    "true=DatatoSplit[DatatoSplit[feature]<=cut]\n",
    "false=DatatoSplit[DatatoSplit[feature]>cut]\n",
    "#must remove what variable is from the stump \n",
    "TY=true.iloc[:, -1]\n",
    "TX=true.drop(columns=[feature,'flowername'])\n",
    "FY=false.iloc[:, -1]\n",
    "FX=false.drop(columns=[feature,'flowername'])\n",
    "## running to get the next node for both true and false nodes off the root node \n",
    "NextTrue=NextNode(TX,TY)\n",
    "NextFalse=NextNode(FX,FY)\n",
    "NextTrue['NodeLevel']=\"Layer1\"\n",
    "NextTrue['T/F']=\"True\"\n",
    "NextFalse['NodeLevel']=\"Layer1\"\n",
    "NextFalse['T/F']=\"False\"\n",
    "DF=DF.append(NextTrue)\n",
    "DF=DF.append(NextFalse)\n",
    "print(NextTrue,NextFalse)\n",
    "\n",
    "\n",
    "#next round, this is creating the second layer. becuase it can stem off of either the true or false node from the first layer, you \n",
    "#would expect at max 4 modes but if a pure node occured in layer 1, \n",
    "#four nodes are not always returned. this code is repeating all the same steps as what it did to create layer 1 but it has if logic to\n",
    "#stop splitting incase it was trying to stem off a pure node. \n",
    "#Steaming off of false parent \n",
    "if NextFalse['InfoGain'].values[0]!=1: \n",
    "    feature2=NextFalse['Feature'].values\n",
    "    feature2=feature2[0]\n",
    "    cut=float(NextFalse[\"Variable\"])\n",
    "    \n",
    "    DatatoSplit=pd.concat([FX,FY],axis=1)\n",
    "    true=DatatoSplit[DatatoSplit[feature2]<=cut]\n",
    "    false=DatatoSplit[DatatoSplit[feature2]>cut]\n",
    "    \n",
    "    TY2=true.iloc[:, -1]\n",
    "    TX2=true.drop(columns=[feature2,'flowername'])\n",
    "    \n",
    "    FY2=false.iloc[:, -1]\n",
    "    FX2=false.drop(columns=[feature2,'flowername'])\n",
    "    \n",
    "    NextTrue2=NextNode(TX2,TY2)\n",
    "    NextFalse2=NextNode(FX2,FY2)\n",
    "    NextTrue2['NodeLevel']=\"FalseLayer2\"\n",
    "    NextTrue2['T/F']=\"True\"\n",
    "    NextFalse2['NodeLevel']=\"FalseLayer2\"\n",
    "    NextFalse2['T/F']=\"False\"\n",
    "    DF=DF.append(NextTrue2)\n",
    "    DF=DF.append(NextFalse2)\n",
    "\n",
    "    print (NextTrue2,NextFalse2)\n",
    "\n",
    " \n",
    "    \n",
    "\n",
    "#Steaming off of true parent--True child from root is pure so do not go further \n",
    "if NextTrue['InfoGain'].values[0]!=1:\n",
    "    feature2=NextTrue['Feature'].values\n",
    "    feature2=feature2[0]\n",
    "    cut=float(NextTrue[\"Variable\"])\n",
    "    DatatoSplit=pd.concat([TX,TY],axis=1)\n",
    "    true=DatatoSplit[DatatoSplit[feature2]<=cut]\n",
    "    false=DatatoSplit[DatatoSplit[feature2]>cut]\n",
    "    \n",
    "    TY=true.iloc[:, -1]\n",
    "    TX=true.drop(columns=[feature2,'flowername'])\n",
    "    \n",
    "    FY=false.iloc[:, -1]\n",
    "    FX=false.drop(columns=[feature2,'flowername'])\n",
    "    \n",
    "    NextTrue3=NextNode(TX,TY)\n",
    "    NextFalse3=NextNode(FX,FY)\n",
    "    \n",
    "    NextTrue3['NodeLevel']=\"TrueLayer2\"\n",
    "    NextTrue3['T/F']=\"True\"\n",
    "    \n",
    "    NextFalse3['NodeLevel']=\"FalseLayer2\"\n",
    "    NextFalse3['T/F']=\"False\"\n",
    "    \n",
    "    DF=DF.append(NextTrue3)\n",
    "    DF=DF.append(NextFalse3)\n",
    "\n",
    "    print(NextTrue3,NextFalse3)\n",
    "\n"
   ]
  },
  {
   "cell_type": "code",
   "execution_count": 18,
   "id": "8eb0393a",
   "metadata": {
    "ExecuteTime": {
     "end_time": "2023-04-09T16:38:30.742703Z",
     "start_time": "2023-04-09T16:38:30.737976Z"
    }
   },
   "outputs": [
    {
     "data": {
      "text/html": [
       "<div>\n",
       "<style scoped>\n",
       "    .dataframe tbody tr th:only-of-type {\n",
       "        vertical-align: middle;\n",
       "    }\n",
       "\n",
       "    .dataframe tbody tr th {\n",
       "        vertical-align: top;\n",
       "    }\n",
       "\n",
       "    .dataframe thead th {\n",
       "        text-align: right;\n",
       "    }\n",
       "</style>\n",
       "<table border=\"1\" class=\"dataframe\">\n",
       "  <thead>\n",
       "    <tr style=\"text-align: right;\">\n",
       "      <th></th>\n",
       "      <th>InfoGain</th>\n",
       "      <th>Variable</th>\n",
       "      <th>Feature</th>\n",
       "      <th>NodeLevel</th>\n",
       "      <th>T/F</th>\n",
       "    </tr>\n",
       "  </thead>\n",
       "  <tbody>\n",
       "    <tr>\n",
       "      <th>13</th>\n",
       "      <td>0.515921</td>\n",
       "      <td>0.6</td>\n",
       "      <td>petal width (cm)</td>\n",
       "      <td>Root</td>\n",
       "      <td>Root</td>\n",
       "    </tr>\n",
       "    <tr>\n",
       "      <th>0</th>\n",
       "      <td>1.000000</td>\n",
       "      <td>1.0</td>\n",
       "      <td>petal length (cm)</td>\n",
       "      <td>Layer1</td>\n",
       "      <td>True</td>\n",
       "    </tr>\n",
       "    <tr>\n",
       "      <th>12</th>\n",
       "      <td>0.556945</td>\n",
       "      <td>4.7</td>\n",
       "      <td>petal length (cm)</td>\n",
       "      <td>Layer1</td>\n",
       "      <td>False</td>\n",
       "    </tr>\n",
       "    <tr>\n",
       "      <th>13</th>\n",
       "      <td>1.000000</td>\n",
       "      <td>4.9</td>\n",
       "      <td>sepal length (cm)</td>\n",
       "      <td>FalseLayer2</td>\n",
       "      <td>True</td>\n",
       "    </tr>\n",
       "    <tr>\n",
       "      <th>0</th>\n",
       "      <td>0.514676</td>\n",
       "      <td>6.9</td>\n",
       "      <td>sepal length (cm)</td>\n",
       "      <td>FalseLayer2</td>\n",
       "      <td>False</td>\n",
       "    </tr>\n",
       "  </tbody>\n",
       "</table>\n",
       "</div>"
      ],
      "text/plain": [
       "    InfoGain  Variable            Feature    NodeLevel    T/F\n",
       "13  0.515921       0.6   petal width (cm)         Root   Root\n",
       "0   1.000000       1.0  petal length (cm)       Layer1   True\n",
       "12  0.556945       4.7  petal length (cm)       Layer1  False\n",
       "13  1.000000       4.9  sepal length (cm)  FalseLayer2   True\n",
       "0   0.514676       6.9  sepal length (cm)  FalseLayer2  False"
      ]
     },
     "execution_count": 18,
     "metadata": {},
     "output_type": "execute_result"
    }
   ],
   "source": [
    "DF"
   ]
  },
  {
   "cell_type": "markdown",
   "id": "1d44559b",
   "metadata": {},
   "source": [
    "# Comparison"
   ]
  },
  {
   "cell_type": "code",
   "execution_count": 19,
   "id": "fe86bc40",
   "metadata": {
    "ExecuteTime": {
     "end_time": "2023-04-09T16:38:30.747568Z",
     "start_time": "2023-04-09T16:38:30.745390Z"
    }
   },
   "outputs": [],
   "source": [
    "#testing the results of my tree\n",
    "Data=pd.concat([X_test,y_test],axis=1)"
   ]
  },
  {
   "cell_type": "code",
   "execution_count": 20,
   "id": "0410c606",
   "metadata": {
    "ExecuteTime": {
     "end_time": "2023-04-09T16:38:30.756916Z",
     "start_time": "2023-04-09T16:38:30.748593Z"
    }
   },
   "outputs": [
    {
     "data": {
      "text/html": [
       "<div>\n",
       "<style scoped>\n",
       "    .dataframe tbody tr th:only-of-type {\n",
       "        vertical-align: middle;\n",
       "    }\n",
       "\n",
       "    .dataframe tbody tr th {\n",
       "        vertical-align: top;\n",
       "    }\n",
       "\n",
       "    .dataframe thead th {\n",
       "        text-align: right;\n",
       "    }\n",
       "</style>\n",
       "<table border=\"1\" class=\"dataframe\">\n",
       "  <thead>\n",
       "    <tr style=\"text-align: right;\">\n",
       "      <th></th>\n",
       "      <th>sepal length (cm)</th>\n",
       "      <th>sepal width (cm)</th>\n",
       "      <th>petal length (cm)</th>\n",
       "      <th>petal width (cm)</th>\n",
       "      <th>flowername</th>\n",
       "    </tr>\n",
       "  </thead>\n",
       "  <tbody>\n",
       "    <tr>\n",
       "      <th>11</th>\n",
       "      <td>4.8</td>\n",
       "      <td>3.4</td>\n",
       "      <td>1.6</td>\n",
       "      <td>0.2</td>\n",
       "      <td>setosa</td>\n",
       "    </tr>\n",
       "    <tr>\n",
       "      <th>48</th>\n",
       "      <td>5.3</td>\n",
       "      <td>3.7</td>\n",
       "      <td>1.5</td>\n",
       "      <td>0.2</td>\n",
       "      <td>setosa</td>\n",
       "    </tr>\n",
       "    <tr>\n",
       "      <th>29</th>\n",
       "      <td>4.7</td>\n",
       "      <td>3.2</td>\n",
       "      <td>1.6</td>\n",
       "      <td>0.2</td>\n",
       "      <td>setosa</td>\n",
       "    </tr>\n",
       "    <tr>\n",
       "      <th>30</th>\n",
       "      <td>4.8</td>\n",
       "      <td>3.1</td>\n",
       "      <td>1.6</td>\n",
       "      <td>0.2</td>\n",
       "      <td>setosa</td>\n",
       "    </tr>\n",
       "    <tr>\n",
       "      <th>19</th>\n",
       "      <td>5.1</td>\n",
       "      <td>3.8</td>\n",
       "      <td>1.5</td>\n",
       "      <td>0.3</td>\n",
       "      <td>setosa</td>\n",
       "    </tr>\n",
       "    <tr>\n",
       "      <th>26</th>\n",
       "      <td>5.0</td>\n",
       "      <td>3.4</td>\n",
       "      <td>1.6</td>\n",
       "      <td>0.4</td>\n",
       "      <td>setosa</td>\n",
       "    </tr>\n",
       "    <tr>\n",
       "      <th>14</th>\n",
       "      <td>5.8</td>\n",
       "      <td>4.0</td>\n",
       "      <td>1.2</td>\n",
       "      <td>0.2</td>\n",
       "      <td>setosa</td>\n",
       "    </tr>\n",
       "    <tr>\n",
       "      <th>31</th>\n",
       "      <td>5.4</td>\n",
       "      <td>3.4</td>\n",
       "      <td>1.5</td>\n",
       "      <td>0.4</td>\n",
       "      <td>setosa</td>\n",
       "    </tr>\n",
       "    <tr>\n",
       "      <th>1</th>\n",
       "      <td>4.9</td>\n",
       "      <td>3.0</td>\n",
       "      <td>1.4</td>\n",
       "      <td>0.2</td>\n",
       "      <td>setosa</td>\n",
       "    </tr>\n",
       "    <tr>\n",
       "      <th>49</th>\n",
       "      <td>5.0</td>\n",
       "      <td>3.3</td>\n",
       "      <td>1.4</td>\n",
       "      <td>0.2</td>\n",
       "      <td>setosa</td>\n",
       "    </tr>\n",
       "    <tr>\n",
       "      <th>17</th>\n",
       "      <td>5.1</td>\n",
       "      <td>3.5</td>\n",
       "      <td>1.4</td>\n",
       "      <td>0.3</td>\n",
       "      <td>setosa</td>\n",
       "    </tr>\n",
       "    <tr>\n",
       "      <th>9</th>\n",
       "      <td>4.9</td>\n",
       "      <td>3.1</td>\n",
       "      <td>1.5</td>\n",
       "      <td>0.1</td>\n",
       "      <td>setosa</td>\n",
       "    </tr>\n",
       "  </tbody>\n",
       "</table>\n",
       "</div>"
      ],
      "text/plain": [
       "    sepal length (cm)  sepal width (cm)  petal length (cm)  petal width (cm)  \\\n",
       "11                4.8               3.4                1.6               0.2   \n",
       "48                5.3               3.7                1.5               0.2   \n",
       "29                4.7               3.2                1.6               0.2   \n",
       "30                4.8               3.1                1.6               0.2   \n",
       "19                5.1               3.8                1.5               0.3   \n",
       "26                5.0               3.4                1.6               0.4   \n",
       "14                5.8               4.0                1.2               0.2   \n",
       "31                5.4               3.4                1.5               0.4   \n",
       "1                 4.9               3.0                1.4               0.2   \n",
       "49                5.0               3.3                1.4               0.2   \n",
       "17                5.1               3.5                1.4               0.3   \n",
       "9                 4.9               3.1                1.5               0.1   \n",
       "\n",
       "   flowername  \n",
       "11     setosa  \n",
       "48     setosa  \n",
       "29     setosa  \n",
       "30     setosa  \n",
       "19     setosa  \n",
       "26     setosa  \n",
       "14     setosa  \n",
       "31     setosa  \n",
       "1      setosa  \n",
       "49     setosa  \n",
       "17     setosa  \n",
       "9      setosa  "
      ]
     },
     "execution_count": 20,
     "metadata": {},
     "output_type": "execute_result"
    }
   ],
   "source": [
    "#First split from root is to split petal width (cm) by .6\n",
    "#pure node 100% accureacy for this group 12/12 correct \n",
    "Data[Data['petal width (cm)']<=.6]"
   ]
  },
  {
   "cell_type": "code",
   "execution_count": 21,
   "id": "81137b2c",
   "metadata": {
    "ExecuteTime": {
     "end_time": "2023-04-09T16:38:30.765619Z",
     "start_time": "2023-04-09T16:38:30.758261Z"
    }
   },
   "outputs": [
    {
     "data": {
      "text/html": [
       "<div>\n",
       "<style scoped>\n",
       "    .dataframe tbody tr th:only-of-type {\n",
       "        vertical-align: middle;\n",
       "    }\n",
       "\n",
       "    .dataframe tbody tr th {\n",
       "        vertical-align: top;\n",
       "    }\n",
       "\n",
       "    .dataframe thead th {\n",
       "        text-align: right;\n",
       "    }\n",
       "</style>\n",
       "<table border=\"1\" class=\"dataframe\">\n",
       "  <thead>\n",
       "    <tr style=\"text-align: right;\">\n",
       "      <th></th>\n",
       "      <th>sepal length (cm)</th>\n",
       "      <th>sepal width (cm)</th>\n",
       "      <th>petal length (cm)</th>\n",
       "      <th>petal width (cm)</th>\n",
       "      <th>flowername</th>\n",
       "    </tr>\n",
       "  </thead>\n",
       "  <tbody>\n",
       "    <tr>\n",
       "      <th>57</th>\n",
       "      <td>4.9</td>\n",
       "      <td>2.4</td>\n",
       "      <td>3.3</td>\n",
       "      <td>1.0</td>\n",
       "      <td>versicolor</td>\n",
       "    </tr>\n",
       "    <tr>\n",
       "      <th>59</th>\n",
       "      <td>5.2</td>\n",
       "      <td>2.7</td>\n",
       "      <td>3.9</td>\n",
       "      <td>1.4</td>\n",
       "      <td>versicolor</td>\n",
       "    </tr>\n",
       "    <tr>\n",
       "      <th>51</th>\n",
       "      <td>6.4</td>\n",
       "      <td>3.2</td>\n",
       "      <td>4.5</td>\n",
       "      <td>1.5</td>\n",
       "      <td>versicolor</td>\n",
       "    </tr>\n",
       "    <tr>\n",
       "      <th>78</th>\n",
       "      <td>6.0</td>\n",
       "      <td>2.9</td>\n",
       "      <td>4.5</td>\n",
       "      <td>1.5</td>\n",
       "      <td>versicolor</td>\n",
       "    </tr>\n",
       "    <tr>\n",
       "      <th>92</th>\n",
       "      <td>5.8</td>\n",
       "      <td>2.6</td>\n",
       "      <td>4.0</td>\n",
       "      <td>1.2</td>\n",
       "      <td>versicolor</td>\n",
       "    </tr>\n",
       "    <tr>\n",
       "      <th>84</th>\n",
       "      <td>5.4</td>\n",
       "      <td>3.0</td>\n",
       "      <td>4.5</td>\n",
       "      <td>1.5</td>\n",
       "      <td>versicolor</td>\n",
       "    </tr>\n",
       "  </tbody>\n",
       "</table>\n",
       "</div>"
      ],
      "text/plain": [
       "    sepal length (cm)  sepal width (cm)  petal length (cm)  petal width (cm)  \\\n",
       "57                4.9               2.4                3.3               1.0   \n",
       "59                5.2               2.7                3.9               1.4   \n",
       "51                6.4               3.2                4.5               1.5   \n",
       "78                6.0               2.9                4.5               1.5   \n",
       "92                5.8               2.6                4.0               1.2   \n",
       "84                5.4               3.0                4.5               1.5   \n",
       "\n",
       "    flowername  \n",
       "57  versicolor  \n",
       "59  versicolor  \n",
       "51  versicolor  \n",
       "78  versicolor  \n",
       "92  versicolor  \n",
       "84  versicolor  "
      ]
     },
     "execution_count": 21,
     "metadata": {},
     "output_type": "execute_result"
    }
   ],
   "source": [
    "#Pure node of Versicolor so 6/6 correct \n",
    "Data[(Data['petal width (cm)']>.6) & (Data['petal length (cm)']<=4.7)]"
   ]
  },
  {
   "cell_type": "code",
   "execution_count": 22,
   "id": "6942081e",
   "metadata": {
    "ExecuteTime": {
     "end_time": "2023-04-09T16:38:30.776086Z",
     "start_time": "2023-04-09T16:38:30.766559Z"
    }
   },
   "outputs": [
    {
     "data": {
      "text/html": [
       "<div>\n",
       "<style scoped>\n",
       "    .dataframe tbody tr th:only-of-type {\n",
       "        vertical-align: middle;\n",
       "    }\n",
       "\n",
       "    .dataframe tbody tr th {\n",
       "        vertical-align: top;\n",
       "    }\n",
       "\n",
       "    .dataframe thead th {\n",
       "        text-align: right;\n",
       "    }\n",
       "</style>\n",
       "<table border=\"1\" class=\"dataframe\">\n",
       "  <thead>\n",
       "    <tr style=\"text-align: right;\">\n",
       "      <th></th>\n",
       "      <th>sepal length (cm)</th>\n",
       "      <th>sepal width (cm)</th>\n",
       "      <th>petal length (cm)</th>\n",
       "      <th>petal width (cm)</th>\n",
       "      <th>flowername</th>\n",
       "    </tr>\n",
       "  </thead>\n",
       "  <tbody>\n",
       "    <tr>\n",
       "      <th>107</th>\n",
       "      <td>7.3</td>\n",
       "      <td>2.9</td>\n",
       "      <td>6.3</td>\n",
       "      <td>1.8</td>\n",
       "      <td>virginica</td>\n",
       "    </tr>\n",
       "    <tr>\n",
       "      <th>114</th>\n",
       "      <td>5.8</td>\n",
       "      <td>2.8</td>\n",
       "      <td>5.1</td>\n",
       "      <td>2.4</td>\n",
       "      <td>virginica</td>\n",
       "    </tr>\n",
       "    <tr>\n",
       "      <th>105</th>\n",
       "      <td>7.6</td>\n",
       "      <td>3.0</td>\n",
       "      <td>6.6</td>\n",
       "      <td>2.1</td>\n",
       "      <td>virginica</td>\n",
       "    </tr>\n",
       "    <tr>\n",
       "      <th>72</th>\n",
       "      <td>6.3</td>\n",
       "      <td>2.5</td>\n",
       "      <td>4.9</td>\n",
       "      <td>1.5</td>\n",
       "      <td>versicolor</td>\n",
       "    </tr>\n",
       "    <tr>\n",
       "      <th>148</th>\n",
       "      <td>6.2</td>\n",
       "      <td>3.4</td>\n",
       "      <td>5.4</td>\n",
       "      <td>2.3</td>\n",
       "      <td>virginica</td>\n",
       "    </tr>\n",
       "    <tr>\n",
       "      <th>111</th>\n",
       "      <td>6.4</td>\n",
       "      <td>2.7</td>\n",
       "      <td>5.3</td>\n",
       "      <td>1.9</td>\n",
       "      <td>virginica</td>\n",
       "    </tr>\n",
       "    <tr>\n",
       "      <th>144</th>\n",
       "      <td>6.7</td>\n",
       "      <td>3.3</td>\n",
       "      <td>5.7</td>\n",
       "      <td>2.5</td>\n",
       "      <td>virginica</td>\n",
       "    </tr>\n",
       "    <tr>\n",
       "      <th>103</th>\n",
       "      <td>6.3</td>\n",
       "      <td>2.9</td>\n",
       "      <td>5.6</td>\n",
       "      <td>1.8</td>\n",
       "      <td>virginica</td>\n",
       "    </tr>\n",
       "    <tr>\n",
       "      <th>104</th>\n",
       "      <td>6.5</td>\n",
       "      <td>3.0</td>\n",
       "      <td>5.8</td>\n",
       "      <td>2.2</td>\n",
       "      <td>virginica</td>\n",
       "    </tr>\n",
       "    <tr>\n",
       "      <th>120</th>\n",
       "      <td>6.9</td>\n",
       "      <td>3.2</td>\n",
       "      <td>5.7</td>\n",
       "      <td>2.3</td>\n",
       "      <td>virginica</td>\n",
       "    </tr>\n",
       "    <tr>\n",
       "      <th>112</th>\n",
       "      <td>6.8</td>\n",
       "      <td>3.0</td>\n",
       "      <td>5.5</td>\n",
       "      <td>2.1</td>\n",
       "      <td>virginica</td>\n",
       "    </tr>\n",
       "    <tr>\n",
       "      <th>140</th>\n",
       "      <td>6.7</td>\n",
       "      <td>3.1</td>\n",
       "      <td>5.6</td>\n",
       "      <td>2.4</td>\n",
       "      <td>virginica</td>\n",
       "    </tr>\n",
       "    <tr>\n",
       "      <th>135</th>\n",
       "      <td>7.7</td>\n",
       "      <td>3.0</td>\n",
       "      <td>6.1</td>\n",
       "      <td>2.3</td>\n",
       "      <td>virginica</td>\n",
       "    </tr>\n",
       "    <tr>\n",
       "      <th>136</th>\n",
       "      <td>6.3</td>\n",
       "      <td>3.4</td>\n",
       "      <td>5.6</td>\n",
       "      <td>2.4</td>\n",
       "      <td>virginica</td>\n",
       "    </tr>\n",
       "    <tr>\n",
       "      <th>108</th>\n",
       "      <td>6.7</td>\n",
       "      <td>2.5</td>\n",
       "      <td>5.8</td>\n",
       "      <td>1.8</td>\n",
       "      <td>virginica</td>\n",
       "    </tr>\n",
       "    <tr>\n",
       "      <th>137</th>\n",
       "      <td>6.4</td>\n",
       "      <td>3.1</td>\n",
       "      <td>5.5</td>\n",
       "      <td>1.8</td>\n",
       "      <td>virginica</td>\n",
       "    </tr>\n",
       "    <tr>\n",
       "      <th>109</th>\n",
       "      <td>7.2</td>\n",
       "      <td>3.6</td>\n",
       "      <td>6.1</td>\n",
       "      <td>2.5</td>\n",
       "      <td>virginica</td>\n",
       "    </tr>\n",
       "    <tr>\n",
       "      <th>77</th>\n",
       "      <td>6.7</td>\n",
       "      <td>3.0</td>\n",
       "      <td>5.0</td>\n",
       "      <td>1.7</td>\n",
       "      <td>versicolor</td>\n",
       "    </tr>\n",
       "    <tr>\n",
       "      <th>133</th>\n",
       "      <td>6.3</td>\n",
       "      <td>2.8</td>\n",
       "      <td>5.1</td>\n",
       "      <td>1.5</td>\n",
       "      <td>virginica</td>\n",
       "    </tr>\n",
       "    <tr>\n",
       "      <th>113</th>\n",
       "      <td>5.7</td>\n",
       "      <td>2.5</td>\n",
       "      <td>5.0</td>\n",
       "      <td>2.0</td>\n",
       "      <td>virginica</td>\n",
       "    </tr>\n",
       "  </tbody>\n",
       "</table>\n",
       "</div>"
      ],
      "text/plain": [
       "     sepal length (cm)  sepal width (cm)  petal length (cm)  petal width (cm)  \\\n",
       "107                7.3               2.9                6.3               1.8   \n",
       "114                5.8               2.8                5.1               2.4   \n",
       "105                7.6               3.0                6.6               2.1   \n",
       "72                 6.3               2.5                4.9               1.5   \n",
       "148                6.2               3.4                5.4               2.3   \n",
       "111                6.4               2.7                5.3               1.9   \n",
       "144                6.7               3.3                5.7               2.5   \n",
       "103                6.3               2.9                5.6               1.8   \n",
       "104                6.5               3.0                5.8               2.2   \n",
       "120                6.9               3.2                5.7               2.3   \n",
       "112                6.8               3.0                5.5               2.1   \n",
       "140                6.7               3.1                5.6               2.4   \n",
       "135                7.7               3.0                6.1               2.3   \n",
       "136                6.3               3.4                5.6               2.4   \n",
       "108                6.7               2.5                5.8               1.8   \n",
       "137                6.4               3.1                5.5               1.8   \n",
       "109                7.2               3.6                6.1               2.5   \n",
       "77                 6.7               3.0                5.0               1.7   \n",
       "133                6.3               2.8                5.1               1.5   \n",
       "113                5.7               2.5                5.0               2.0   \n",
       "\n",
       "     flowername  \n",
       "107   virginica  \n",
       "114   virginica  \n",
       "105   virginica  \n",
       "72   versicolor  \n",
       "148   virginica  \n",
       "111   virginica  \n",
       "144   virginica  \n",
       "103   virginica  \n",
       "104   virginica  \n",
       "120   virginica  \n",
       "112   virginica  \n",
       "140   virginica  \n",
       "135   virginica  \n",
       "136   virginica  \n",
       "108   virginica  \n",
       "137   virginica  \n",
       "109   virginica  \n",
       "77   versicolor  \n",
       "133   virginica  \n",
       "113   virginica  "
      ]
     },
     "execution_count": 22,
     "metadata": {},
     "output_type": "execute_result"
    }
   ],
   "source": [
    "#assumes all are Virginica becuase its the majority, only two wrong 18/20 correct \n",
    "Data[(Data['petal width (cm)']>.6) & (Data['petal length (cm)']>4.7)]"
   ]
  },
  {
   "cell_type": "code",
   "execution_count": 23,
   "id": "e569b0bc",
   "metadata": {
    "ExecuteTime": {
     "end_time": "2023-04-09T16:38:30.779351Z",
     "start_time": "2023-04-09T16:38:30.777027Z"
    }
   },
   "outputs": [
    {
     "data": {
      "text/plain": [
       "0.9473684210526315"
      ]
     },
     "execution_count": 23,
     "metadata": {},
     "output_type": "execute_result"
    }
   ],
   "source": [
    "#12/12 correct for setosa, 6/6 correct for Versicolor and 18/20 correct for Virginica\n",
    "#Same sccuracty results! but not as good as results as Sklern but its not optimized \n",
    "(12+6+18)/len(Data)"
   ]
  },
  {
   "cell_type": "code",
   "execution_count": 24,
   "id": "fb626202",
   "metadata": {
    "ExecuteTime": {
     "end_time": "2023-04-09T16:38:30.782312Z",
     "start_time": "2023-04-09T16:38:30.780217Z"
    }
   },
   "outputs": [
    {
     "data": {
      "text/plain": [
       "0.9473684210526315"
      ]
     },
     "execution_count": 24,
     "metadata": {},
     "output_type": "execute_result"
    }
   ],
   "source": [
    "PackageAccuracy"
   ]
  }
 ],
 "metadata": {
  "kernelspec": {
   "display_name": "Python 3",
   "language": "python",
   "name": "python3"
  },
  "language_info": {
   "codemirror_mode": {
    "name": "ipython",
    "version": 3
   },
   "file_extension": ".py",
   "mimetype": "text/x-python",
   "name": "python",
   "nbconvert_exporter": "python",
   "pygments_lexer": "ipython3",
   "version": "3.8.8"
  },
  "toc": {
   "base_numbering": 1,
   "nav_menu": {},
   "number_sections": true,
   "sideBar": true,
   "skip_h1_title": false,
   "title_cell": "Table of Contents",
   "title_sidebar": "Contents",
   "toc_cell": false,
   "toc_position": {},
   "toc_section_display": true,
   "toc_window_display": false
  },
  "varInspector": {
   "cols": {
    "lenName": 16,
    "lenType": 16,
    "lenVar": 40
   },
   "kernels_config": {
    "python": {
     "delete_cmd_postfix": "",
     "delete_cmd_prefix": "del ",
     "library": "var_list.py",
     "varRefreshCmd": "print(var_dic_list())"
    },
    "r": {
     "delete_cmd_postfix": ") ",
     "delete_cmd_prefix": "rm(",
     "library": "var_list.r",
     "varRefreshCmd": "cat(var_dic_list()) "
    }
   },
   "types_to_exclude": [
    "module",
    "function",
    "builtin_function_or_method",
    "instance",
    "_Feature"
   ],
   "window_display": false
  }
 },
 "nbformat": 4,
 "nbformat_minor": 5
}
